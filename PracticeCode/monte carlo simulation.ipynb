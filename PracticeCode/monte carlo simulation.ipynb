{
 "cells": [
  {
   "cell_type": "code",
   "execution_count": 6,
   "metadata": {},
   "outputs": [
    {
     "name": "stdout",
     "output_type": "stream",
     "text": [
      "(1, 1) Dist from home =  2\n",
      "(5, -3) Dist from home =  8\n",
      "(-1, -1) Dist from home =  2\n",
      "(6, -2) Dist from home =  8\n",
      "(-1, -3) Dist from home =  4\n",
      "(-6, 0) Dist from home =  6\n",
      "(1, -1) Dist from home =  2\n",
      "(0, 4) Dist from home =  4\n",
      "(-3, 3) Dist from home =  6\n",
      "(4, 2) Dist from home =  6\n",
      "(0, 0) Dist from home =  0\n",
      "(-5, -1) Dist from home =  6\n",
      "(1, -1) Dist from home =  2\n",
      "(2, 0) Dist from home =  2\n",
      "(0, 0) Dist from home =  0\n",
      "(3, 1) Dist from home =  4\n",
      "(-2, -2) Dist from home =  4\n",
      "(1, 5) Dist from home =  6\n",
      "(2, 2) Dist from home =  4\n",
      "(3, 1) Dist from home =  4\n",
      "(-1, -1) Dist from home =  2\n",
      "(1, -1) Dist from home =  2\n",
      "(-3, 1) Dist from home =  4\n",
      "(-2, -2) Dist from home =  4\n",
      "(0, 2) Dist from home =  2\n",
      "(-3, -3) Dist from home =  6\n",
      "(-1, -1) Dist from home =  2\n",
      "(0, -2) Dist from home =  2\n",
      "(-3, -3) Dist from home =  6\n",
      "(0, 2) Dist from home =  2\n"
     ]
    }
   ],
   "source": [
    "import random\n",
    "\n",
    "def random_walk(val):\n",
    "    x = 0\n",
    "    y = 0\n",
    "    #returns x and y coordinates after \"val\" block random walk\n",
    "    for i in range(val):\n",
    "        step = random.choice(['N','S','E','W'])\n",
    "        if(step == 'N'):\n",
    "            y = y + 1\n",
    "        elif(step == 'S'):\n",
    "            y = y - 1\n",
    "        elif(step == 'E'):\n",
    "            x = x - 1\n",
    "        elif(step == \"W\"):\n",
    "            x = x + 1\n",
    "    return x,y\n",
    "\n",
    "def random_walk2(val):\n",
    "    x,y=0,0\n",
    "    for i in range(val):\n",
    "        (dx,dy) = random.choice([(0,1),(0,-1),(-1,0),(1,0)])\n",
    "        x+=dx\n",
    "        y+=dy\n",
    "    return x,y\n",
    "\n",
    "\n",
    "        \n",
    "for i in range(30):\n",
    "    walk = random_walk(10)\n",
    "    print(walk,\"Dist from home = \",\n",
    "         abs(walk[0]) + abs(walk[1]))"
   ]
  },
  {
   "cell_type": "code",
   "execution_count": null,
   "metadata": {},
   "outputs": [],
   "source": [
    "number_of_walks = 10000\n",
    "\n",
    "for walk_length in range(1,31):\n",
    "    trans = 0\n",
    "    for i in range(number_of_walks):\n",
    "        (x,y)=random_walk2(number_of_walks)\n",
    "        dist = abs(x) + abs(y)\n",
    "        if dist>4:\n",
    "            trans +=1\n",
    "    trans_percentage= float(trans)/number_of_walks\n",
    "    print(\"Walk size = \", walk_length, \"%tage of trans = \", 100*trans_percentage)"
   ]
  },
  {
   "cell_type": "code",
   "execution_count": null,
   "metadata": {},
   "outputs": [],
   "source": []
  }
 ],
 "metadata": {
  "kernelspec": {
   "display_name": "Python 3",
   "language": "python",
   "name": "python3"
  },
  "language_info": {
   "codemirror_mode": {
    "name": "ipython",
    "version": 3
   },
   "file_extension": ".py",
   "mimetype": "text/x-python",
   "name": "python",
   "nbconvert_exporter": "python",
   "pygments_lexer": "ipython3",
   "version": "3.7.4"
  }
 },
 "nbformat": 4,
 "nbformat_minor": 2
}
